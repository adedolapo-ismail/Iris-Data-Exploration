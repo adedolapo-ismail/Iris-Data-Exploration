{
 "cells": [
  {
   "cell_type": "code",
   "execution_count": 2,
   "metadata": {},
   "outputs": [],
   "source": [
    "import numpy as np\n",
    "import pandas as pd\n",
    "import pickle\n",
    "import streamlit as st\n",
    "from PIL import Image"
   ]
  },
  {
   "cell_type": "code",
   "execution_count": null,
   "metadata": {},
   "outputs": [],
   "source": [
    "pickle_in = open('classifier.pkl', 'rb') \n",
    "classifier = pickle.load(pickle_in) \n",
    "  \n",
    "def welcome(): \n",
    "    return 'welcome all'\n",
    "  \n",
    "\n",
    "def prediction(sepal_length, sepal_width, petal_length, petal_width):   \n",
    "   \n",
    "    prediction = classifier.predict( \n",
    "        [[sepal_length, sepal_width, petal_length, petal_width]]) \n",
    "    print(prediction) \n",
    "    return prediction \n",
    "\n",
    "def main():\n",
    "    st.title(\"Iris flower prediction with the UCI Iris dataset\")\n",
    "    \n",
    "    html_temp = \"\"\"\n",
    "    <div style =\"background-color:blue;padding:13px\"> \n",
    "    <h1 style =\"color:black;text-align:center;\">Streamlit Iris Flower Classifier ML App </h1> \n",
    "    </div> \n",
    "    \"\"\"\n",
    "    st.markdown(html_temp, unsafe_allow_html = True)\n",
    "    \n",
    "    \n",
    "    sepal_length = st.text_input(\"Sepal Length\", \"Type Here\") \n",
    "    sepal_width = st.text_input(\"Sepal Width\", \"Type Here\") \n",
    "    petal_length = st.text_input(\"Petal Length\", \"Type Here\") \n",
    "    petal_width = st.text_input(\"Petal Width\", \"Type Here\") \n",
    "    result =\"\" \n",
    "    \n",
    "    if st.button(\"Predict\"): \n",
    "        result = prediction(sepal_length, sepal_width, petal_length, petal_width) \n",
    "    st.success('The output is {}'.format(result)) \n",
    "     \n",
    "if __name__=='__main__': \n",
    "    main() "
   ]
  }
 ],
 "metadata": {
  "kernelspec": {
   "display_name": "Python 3.8.1 64-bit",
   "language": "python",
   "name": "python38164bit459a73a29c9d4913b72da0db7d288779"
  },
  "language_info": {
   "codemirror_mode": {
    "name": "ipython",
    "version": 3
   },
   "file_extension": ".py",
   "mimetype": "text/x-python",
   "name": "python",
   "nbconvert_exporter": "python",
   "pygments_lexer": "ipython3",
   "version": "3.8.1"
  }
 },
 "nbformat": 4,
 "nbformat_minor": 4
}
